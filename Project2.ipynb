{
  "nbformat": 4,
  "nbformat_minor": 0,
  "metadata": {
    "colab": {
      "name": "Project2.ipynb",
      "provenance": []
    },
    "kernelspec": {
      "name": "python3",
      "display_name": "Python 3"
    },
    "language_info": {
      "name": "python"
    }
  },
  "cells": [
    {
      "cell_type": "markdown",
      "source": [
        "Project 2: Rock, paper & scissor"
      ],
      "metadata": {
        "id": "NcoFZB8Q5Sky"
      }
    },
    {
      "cell_type": "code",
      "execution_count": 8,
      "metadata": {
        "colab": {
          "base_uri": "https://localhost:8080/"
        },
        "id": "cc1hz6Hs5Jnt",
        "outputId": "87980996-10b9-4800-f8ef-3a29e3f5377f"
      },
      "outputs": [
        {
          "output_type": "stream",
          "name": "stdout",
          "text": [
            "Project-2 : Playing game of rock, paper and scissor\n",
            "Enter the name of Player 1: Jack\n",
            "Enter the name of Player 2: Jill\n",
            "Please select - Rock, Paper or Scissor: Rock\n",
            "Please select - Rock, Paper or Scissor: Paper\n",
            "Jack has selected Rock and Jill has selected Paper\n",
            "Jill wins!\n"
          ]
        }
      ],
      "source": [
        "print(\"Project-2 : Playing game of rock, paper and scissor\" )\n",
        "p1=input(\"Enter the name of Player 1: \")\n",
        "p2=input(\"Enter the name of Player 2: \")\n",
        "s1=input(\"Please select - Rock, Paper or Scissor: \")\n",
        "s2=input(\"Please select - Rock, Paper or Scissor: \")\n",
        "print(\"{0} has selected {1} and {2} has selected {3}\".format(p1,s1,p2,s2))\n",
        "if s1==s2:\n",
        "  print(\"Tie!!\")\n",
        "elif s1=='Rock': \n",
        "  if s2=='Scissor':\n",
        "    print(p1,\"wins!\")\n",
        "  else:\n",
        "    print(p2,\"wins!\")  \n",
        "elif s1=='Paper':\n",
        "  if s2=='Rock':\n",
        "    print(p1, \"wins!\")\n",
        "  else:\n",
        "    print(p2,\"wins!!\") \n",
        "elif s1=='Scissor':\n",
        "  if s2=='Paper':\n",
        "    print(p1,'wins!')\n",
        "  else:\n",
        "    print(p2,'wins!')           \n"
      ]
    }
  ]
}